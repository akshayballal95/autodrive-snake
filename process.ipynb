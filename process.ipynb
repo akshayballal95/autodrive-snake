{
 "cells": [
  {
   "cell_type": "code",
   "execution_count": 10,
   "metadata": {},
   "outputs": [],
   "source": [
    "import pandas as pd\n",
    "import matplotlib.pyplot as plt\n",
    "import os\n",
    "import csv \n",
    "import os\n"
   ]
  },
  {
   "cell_type": "code",
   "execution_count": 11,
   "metadata": {},
   "outputs": [
    {
     "name": "stdout",
     "output_type": "stream",
     "text": [
      "1168\n"
     ]
    },
    {
     "data": {
      "image/png": "[encoded data removed]",
      "text/plain": [
       "<Figure size 640x480 with 1 Axes>"
      ]
     },
     "metadata": {},
     "output_type": "display_data"
    }
   ],
   "source": [
    "labels = []\n",
    "dir = 'captures'\n",
    "file_path = \"data/labels_snake.csv\"\n",
    "\n",
    "if not os.path.exists(file_path):\n",
    "    os.mkdir('data')\n",
    "\n",
    "for f in os.listdir(dir):\n",
    "    key = f.rsplit('.',1)[0].rsplit(\" \",1)[1]\n",
    "    \n",
    "    if key==\"n\":\n",
    "        labels.append({'file_name': f, 'class': 0})\n",
    "    elif key==\"left\":\n",
    "        labels.append({'file_name': f, 'class': 1})\n",
    "    elif key==\"up\":\n",
    "        labels.append({'file_name': f, 'class': 2})\n",
    "    elif key==\"right\":\n",
    "        labels.append({'file_name': f, 'class': 3})\n",
    "    elif key==\"down\":\n",
    "        labels.append({'file_name': f, 'class': 4})\n",
    "    \n",
    "\n",
    "field_names= ['file_name', 'class']\n",
    "\n",
    "with open('data/labels_snake.csv', 'w') as csvfile:\n",
    "    writer = csv.DictWriter(csvfile, fieldnames=field_names)\n",
    "    writer.writeheader()\n",
    "    writer.writerows(labels)\n",
    "\n",
    "df = pd.read_csv(\"data/labels_snake.csv\")\n",
    "df.hist(column = [\"class\"])\n",
    "print(len(df))"
   ]
  },
  {
   "cell_type": "code",
   "execution_count": 12,
   "metadata": {},
   "outputs": [],
   "source": [
    "# action = df[df['class'] != 0]\n",
    "# non_action = df[df['class']==0]\n",
    "\n",
    "# num = action['class'].value_counts().max()*2\n",
    "# non_action = non_action.sample(n = num)\n",
    "\n",
    "# df_sample = pd.concat([action, non_action], axis=0).sample(frac = 1)\n",
    "\n",
    "# df_sample.hist(column=['class'])\n",
    "\n",
    "# df_sample.sort_values(by=['file_name'], inplace=True)\n",
    "\n",
    "# df_sample.to_csv(\"data/labels_balanced.csv\", index= False)\n",
    "# print(len(df_sample))"
   ]
  },
  {
   "cell_type": "code",
   "execution_count": null,
   "metadata": {},
   "outputs": [],
   "source": []
  }
 ],
 "metadata": {
  "kernelspec": {
   "display_name": "autodrive-env",
   "language": "python",
   "name": "python3"
  },
  "language_info": {
   "codemirror_mode": {
    "name": "ipython",
    "version": 3
   },
   "file_extension": ".py",
   "mimetype": "text/x-python",
   "name": "python",
   "nbconvert_exporter": "python",
   "pygments_lexer": "ipython3",
   "version": "3.11.5"
  },
  "orig_nbformat": 4
 },
 "nbformat": 4,
 "nbformat_minor": 2
}
