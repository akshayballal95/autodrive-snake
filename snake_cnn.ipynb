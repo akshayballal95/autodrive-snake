{
 "cells": [
  {
   "cell_type": "code",
   "execution_count": 14,
   "metadata": {},
   "outputs": [],
   "source": [
    "from torch.utils.data import Dataset, DataLoader, WeightedRandomSampler\n",
    "import os\n",
    "from PIL import Image\n",
    "import torch\n",
    "from sklearn.model_selection import train_test_split\n",
    "import pandas as pd\n",
    "from torchvision.transforms import transforms, Compose, ToTensor, Resize, Normalize, CenterCrop, Grayscale\n",
    "from torch import nn\n",
    "from tqdm import tqdm\n",
    "from torchinfo import summary\n",
    "import numpy as np\n",
    "import math"
   ]
  },
  {
   "cell_type": "code",
   "execution_count": 15,
   "metadata": {},
   "outputs": [],
   "source": [
    "class SnakeDataSet(Dataset):\n",
    "    def __init__(self, dataframe, root_dir, stack_size, transform = None):\n",
    "        self.stack_size = stack_size\n",
    "        self.key_frame = dataframe\n",
    "        self.root_dir = root_dir\n",
    "        self.transform = transform\n",
    "\n",
    "    def __len__(self):\n",
    "        return len(self.key_frame) - self.stack_size *3\n",
    "\n",
    "    def __getitem__(self, idx):\n",
    "        if torch.is_tensor(idx):\n",
    "            idx = idx.to_list()\n",
    "        try:\n",
    "            img_names = [os.path.join(self.root_dir, self.key_frame.iloc[idx + i, 0]) for i in range(self.stack_size)]\n",
    "            images = [Image.open(img_name) for img_name in img_names]\n",
    "            label = torch.tensor(self.key_frame.iloc[idx + self.stack_size, 1])\n",
    "            if self.transform:\n",
    "                images = [self.transform(image) for image in images]\n",
    "        except:\n",
    "            img_names = [os.path.join(self.root_dir, self.key_frame.iloc[0 + i, 0]) for i in range(self.stack_size)]\n",
    "            images = [Image.open(img_name) for img_name in img_names]\n",
    "            label = torch.tensor(self.key_frame.iloc[0 + self.stack_size, 1])\n",
    "            if self.transform:\n",
    "                images = [self.transform(image) for image in images]\n",
    "        return torch.stack(images,dim = 1).squeeze(), label"
   ]
  },
  {
   "cell_type": "code",
   "execution_count": 16,
   "metadata": {},
   "outputs": [],
   "source": [
    "transformer = Compose([\n",
    "    Grayscale(1),\n",
    "    Resize((84,84), antialias=True),\n",
    "    CenterCrop(84),\n",
    "    ToTensor(),\n",
    "    Normalize(mean =[0.6974], std =[0.6974] )\n",
    "])"
   ]
  },
  {
   "cell_type": "code",
   "execution_count": 17,
   "metadata": {},
   "outputs": [],
   "source": [
    "STACK_SIZE = 4\n",
    "\n",
    "train, test = train_test_split(pd.read_csv(\"data/labels_snake.csv\")[:40000], test_size=0.2, shuffle=False)\n",
    "classes = [\"n\", \"left\", \"up\", \"right\", \"down\"]\n",
    "\n",
    "labels_unique, counts = np.unique(train[\"class\"], return_counts=True)\n",
    "class_weights = [sum(counts)/c for c in counts]\n",
    "example_weights = np.array([class_weights[l] for l in train['class']])\n",
    "example_weights = np.roll(example_weights, -STACK_SIZE)\n",
    "sampler = WeightedRandomSampler(example_weights, len(train))\n",
    "\n",
    "labels_unique, counts = np.unique(test[\"class\"], return_counts=True)\n",
    "class_weights = [sum(counts)/c for c in counts]\n",
    "test_example_weights = np.array([class_weights[l] for l in test['class']])\n",
    "test_example_weights = np.roll(test_example_weights, -STACK_SIZE)\n",
    "test_sampler = WeightedRandomSampler(test_example_weights, len(test))"
   ]
  },
  {
   "cell_type": "code",
   "execution_count": 18,
   "metadata": {},
   "outputs": [],
   "source": [
    "from torch.utils.data import DataLoader\n",
    "BATCH_SIZE = 32\n",
    "dataset = SnakeDataSet(root_dir=\"captures\", dataframe = train, stack_size=STACK_SIZE, transform=transformer)\n",
    "dataloader = DataLoader(dataset, batch_size=BATCH_SIZE, sampler=sampler, drop_last= True)\n",
    "test_dataset = SnakeDataSet(root_dir=\"captures\", dataframe = test, stack_size=STACK_SIZE,  transform=transformer)\n",
    "test_dataloader = DataLoader(test_dataset, batch_size=BATCH_SIZE, sampler = test_sampler, drop_last=True)\n"
   ]
  },
  {
   "cell_type": "code",
   "execution_count": 19,
   "metadata": {},
   "outputs": [],
   "source": [
    "def compute_mean_std(dataloader):\n",
    "    '''\n",
    "    We assume that the images of the dataloader have the same height and width\n",
    "    source: https://github.com/aladdinpersson/Machine-Learning-Collection/blob/master/ML/Pytorch/Basics/pytorch_std_mean.py\n",
    "    '''\n",
    "    # var[X] = E[X**2] - E[X]**2\n",
    "    channels_sum, channels_sqrd_sum, num_batches = 0, 0, 0\n",
    "\n",
    "    for batch_images, labels in tqdm(dataloader):  # (B,H,W,C)\n",
    "        batch_images = batch_images.permute(0,2,3,1)\n",
    "        channels_sum += torch.mean(batch_images, dim=[0, 1, 2])\n",
    "        channels_sqrd_sum += torch.mean(batch_images ** 2, dim=[0, 1, 2])\n",
    "        num_batches += 1\n",
    "\n",
    "    mean = channels_sum / num_batches\n",
    "    std = (channels_sqrd_sum / num_batches - mean ** 2) ** 0.5\n",
    "\n",
    "    return mean, std"
   ]
  },
  {
   "cell_type": "code",
   "execution_count": 20,
   "metadata": {},
   "outputs": [],
   "source": [
    "# compute_mean_std(dataloader)"
   ]
  },
  {
   "cell_type": "code",
   "execution_count": 21,
   "metadata": {},
   "outputs": [
    {
     "name": "stdout",
     "output_type": "stream",
     "text": [
      "tensor([0, 1, 3, 2, 0, 2, 1, 0, 3, 1, 3, 2, 1, 2, 0, 0, 1, 2, 1, 0, 3, 2, 3, 1,\n",
      "        2, 0, 1, 3, 4, 3, 3, 2])\n"
     ]
    },
    {
     "data": {
      "image/png": "[encoded data removed]",
      "text/plain": [
       "<Figure size 1500x500 with 4 Axes>"
      ]
     },
     "metadata": {},
     "output_type": "display_data"
    }
   ],
   "source": [
    "images, label = next(iter(dataloader))\n",
    "print(label)\n",
    "from matplotlib.pyplot import subplots\n",
    "fig,ax = subplots(1, STACK_SIZE, constrained_layout = True, figsize=(15,5))\n",
    "for i in range(STACK_SIZE):\n",
    "    ax[i].imshow(images[2][i,:,:],cmap=\"gray\");\n",
    "    ax[i].axis('off')\n",
    "fig.supylabel(classes[label[2].item()]);"
   ]
  },
  {
   "cell_type": "code",
   "execution_count": 22,
   "metadata": {},
   "outputs": [],
   "source": [
    "class SnakeModel(nn.Module):\n",
    "    def __init__(self, in_channels=4, out_channels=32, mlp_size=256, n_actions=5, dropout = 0.2):\n",
    "        super().__init__()\n",
    "        self.in_channels = in_channels\n",
    "        self.out_channels = out_channels\n",
    "        self.mlp_size = mlp_size\n",
    "        self.n_classes = n_actions\n",
    "        self.convblock = nn.Sequential(\n",
    "            nn.Conv2d(in_channels, 16, kernel_size=8, stride=4),\n",
    "            nn.ReLU(),\n",
    "            nn.Conv2d(16, 32, 4,2),\n",
    "            nn.ReLU()\n",
    "        )\n",
    "        self.classifier =nn.Sequential(\n",
    "            nn.Flatten(),\n",
    "            nn.Linear(in_features=out_channels*9*9, out_features=mlp_size),\n",
    "            nn.ReLU(),\n",
    "            nn.Dropout(dropout),\n",
    "            nn.Linear(in_features=mlp_size, out_features=n_actions)\n",
    "        )\n",
    "\n",
    "    def forward(self,x):\n",
    "        x = self.classifier(self.convblock(x).permute(0,2,3,1))\n",
    "        return x"
   ]
  },
  {
   "cell_type": "code",
   "execution_count": 23,
   "metadata": {},
   "outputs": [
    {
     "data": {
      "text/plain": [
       "==========================================================================================\n",
       "Layer (type:depth-idx)                   Output Shape              Param #\n",
       "==========================================================================================\n",
       "SnakeModel                               [32, 5]                   --\n",
       "├─Sequential: 1-1                        [32, 32, 9, 9]            --\n",
       "│    └─Conv2d: 2-1                       [32, 16, 20, 20]          4,112\n",
       "│    └─ReLU: 2-2                         [32, 16, 20, 20]          --\n",
       "│    └─Conv2d: 2-3                       [32, 32, 9, 9]            8,224\n",
       "│    └─ReLU: 2-4                         [32, 32, 9, 9]            --\n",
       "├─Sequential: 1-2                        [32, 5]                   --\n",
       "│    └─Flatten: 2-5                      [32, 2592]                --\n",
       "│    └─Linear: 2-6                       [32, 256]                 663,808\n",
       "│    └─ReLU: 2-7                         [32, 256]                 --\n",
       "│    └─Dropout: 2-8                      [32, 256]                 --\n",
       "│    └─Linear: 2-9                       [32, 5]                   1,285\n",
       "==========================================================================================\n",
       "Total params: 677,429\n",
       "Trainable params: 677,429\n",
       "Non-trainable params: 0\n",
       "Total mult-adds (M): 95.23\n",
       "==========================================================================================\n",
       "Input size (MB): 3.61\n",
       "Forward/backward pass size (MB): 2.37\n",
       "Params size (MB): 2.71\n",
       "Estimated Total Size (MB): 8.69\n",
       "=========================================================================================="
      ]
     },
     "execution_count": 23,
     "metadata": {},
     "output_type": "execute_result"
    }
   ],
   "source": [
    "model = SnakeModel()\n",
    "summary(model, [BATCH_SIZE, 4, 84,84])\n"
   ]
  },
  {
   "cell_type": "code",
   "execution_count": 24,
   "metadata": {},
   "outputs": [],
   "source": [
    "from torch.optim.lr_scheduler import LinearLR\n",
    "num_epochs = 7\n",
    "\n",
    "device = torch.device(\"cuda\" if torch.cuda.is_available() else \"cpu\")\n",
    "optimizer = torch.optim.AdamW(model.parameters(), 10e-5, weight_decay=0.1)\n",
    "model.to(device)\n",
    "criterion = nn.CrossEntropyLoss()"
   ]
  },
  {
   "cell_type": "code",
   "execution_count": 25,
   "metadata": {},
   "outputs": [
    {
     "name": "stderr",
     "output_type": "stream",
     "text": [
      "Epoch 1/7: 100%|██████████| 1000/1000 [07:17<00:00,  2.28it/s, Loss=0.0426, Accuracy=0.432]\n"
     ]
    },
    {
     "name": "stdout",
     "output_type": "stream",
     "text": [
      "Epoch 1/7, Val Loss: 0.0496, Val Accuracy: 0.3450\n"
     ]
    },
    {
     "name": "stderr",
     "output_type": "stream",
     "text": [
      "Epoch 2/7: 100%|██████████| 1000/1000 [06:51<00:00,  2.43it/s, Loss=0.0287, Accuracy=0.646]\n"
     ]
    },
    {
     "name": "stdout",
     "output_type": "stream",
     "text": [
      "Epoch 2/7, Val Loss: 0.0601, Val Accuracy: 0.3710\n"
     ]
    },
    {
     "name": "stderr",
     "output_type": "stream",
     "text": [
      "Epoch 3/7: 100%|██████████| 1000/1000 [06:34<00:00,  2.53it/s, Loss=0.0191, Accuracy=0.779]\n"
     ]
    },
    {
     "name": "stdout",
     "output_type": "stream",
     "text": [
      "Epoch 3/7, Val Loss: 0.0728, Val Accuracy: 0.3314\n"
     ]
    },
    {
     "name": "stderr",
     "output_type": "stream",
     "text": [
      "Epoch 4/7: 100%|██████████| 1000/1000 [06:27<00:00,  2.58it/s, Loss=0.0148, Accuracy=0.831]\n"
     ]
    },
    {
     "name": "stdout",
     "output_type": "stream",
     "text": [
      "Epoch 4/7, Val Loss: 0.0854, Val Accuracy: 0.3174\n"
     ]
    },
    {
     "name": "stderr",
     "output_type": "stream",
     "text": [
      "Epoch 5/7: 100%|██████████| 1000/1000 [06:35<00:00,  2.53it/s, Loss=0.0122, Accuracy=0.862]\n"
     ]
    },
    {
     "name": "stdout",
     "output_type": "stream",
     "text": [
      "Epoch 5/7, Val Loss: 0.0946, Val Accuracy: 0.3026\n"
     ]
    },
    {
     "name": "stderr",
     "output_type": "stream",
     "text": [
      "Epoch 6/7: 100%|██████████| 1000/1000 [07:11<00:00,  2.32it/s, Loss=0.0104, Accuracy=0.885]\n"
     ]
    },
    {
     "name": "stdout",
     "output_type": "stream",
     "text": [
      "Epoch 6/7, Val Loss: 0.1020, Val Accuracy: 0.2810\n"
     ]
    },
    {
     "name": "stderr",
     "output_type": "stream",
     "text": [
      "Epoch 7/7: 100%|██████████| 1000/1000 [07:51<00:00,  2.12it/s, Loss=0.0094, Accuracy=0.896]\n"
     ]
    },
    {
     "name": "stdout",
     "output_type": "stream",
     "text": [
      "Epoch 7/7, Val Loss: 0.1100, Val Accuracy: 0.2891\n"
     ]
    }
   ],
   "source": [
    "steps = 0\n",
    "for epoch in range(num_epochs):\n",
    "    total_loss = 0.0\n",
    "    correct_predictions = 0\n",
    "    total_samples = 0\n",
    "\n",
    "    val_loss = 0.0\n",
    "    val_correct_predictions = 0\n",
    "    val_total_samples = 0\n",
    "\n",
    "    # Set model to training mode\n",
    "    model.train()\n",
    "\n",
    "    # tqdm bar for progress visualization\n",
    "    pbar = tqdm(dataloader, desc=f'Epoch {epoch + 1}/{num_epochs}', leave=True)\n",
    "    for inputs, labels in pbar:\n",
    "        inputs, labels = inputs.to(device), labels.to(device)\n",
    "\n",
    "        outputs = model(inputs.to(device))\n",
    "        loss = criterion(outputs, labels)\n",
    "\n",
    "        # Backward pass and optimization\n",
    "        optimizer.zero_grad()\n",
    "        loss.backward()\n",
    "        optimizer.step()\n",
    "\n",
    "        # Update statistics\n",
    "        total_loss += loss.item()\n",
    "        _, predicted = torch.max(torch.softmax(outputs,1), 1)\n",
    "        correct_predictions += (predicted == labels).sum().item()\n",
    "        total_samples += labels.size(0)\n",
    "\n",
    "        # Update tqdm bar with current loss and accuracy\n",
    "        pbar.set_postfix({'Loss': total_loss / total_samples, 'Accuracy': correct_predictions / total_samples})\n",
    "        steps = steps + 1\n",
    "        # if steps>1000:\n",
    "        #     for param_group in optimizer.param_groups:\n",
    "        #         param_group['lr'] = 2e-5\n",
    "\n",
    "    model.eval()\n",
    "    with torch.inference_mode():\n",
    "        for inputs, labels in test_dataloader:\n",
    "            inputs, labels = inputs.to(device), labels.to(device)\n",
    "\n",
    "            outputs = model(inputs.to(device))\n",
    "            loss = criterion(outputs, labels)\n",
    "\n",
    "            # Update statistics\n",
    "            val_loss += loss.item()\n",
    "            _, predicted = torch.max(torch.softmax(outputs,1), 1)\n",
    "            val_correct_predictions += (predicted == labels).sum().item()\n",
    "            val_total_samples += labels.size(0)\n",
    "\n",
    "    # Calculate and print epoch-level accuracy and loss for validation\n",
    "    epoch_loss = val_loss / val_total_samples\n",
    "    epoch_accuracy = val_correct_predictions / val_total_samples\n",
    "    print(f'Epoch {epoch + 1}/{num_epochs}, Val Loss: {epoch_loss:.4f}, Val Accuracy: {epoch_accuracy:.4f}')"
   ]
  },
  {
   "cell_type": "code",
   "execution_count": 26,
   "metadata": {},
   "outputs": [],
   "source": [
    "torch.save(model.state_dict(), \"model.pth\")"
   ]
  }
 ],
 "metadata": {
  "kernelspec": {
   "display_name": "autodrive-env",
   "language": "python",
   "name": "python3"
  },
  "language_info": {
   "codemirror_mode": {
    "name": "ipython",
    "version": 3
   },
   "file_extension": ".py",
   "mimetype": "text/x-python",
   "name": "python",
   "nbconvert_exporter": "python",
   "pygments_lexer": "ipython3",
   "version": "3.10.12"
  }
 },
 "nbformat": 4,
 "nbformat_minor": 2
}
