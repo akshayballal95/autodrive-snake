{
 "cells": [
  {
   "cell_type": "code",
   "execution_count": 31,
   "metadata": {},
   "outputs": [],
   "source": [
    "from torch.utils.data import Dataset, DataLoader, WeightedRandomSampler\n",
    "import os\n",
    "from PIL import Image\n",
    "import torch\n",
    "from sklearn.model_selection import train_test_split\n",
    "import pandas as pd\n",
    "from torchvision.transforms import transforms, Compose, ToTensor, Resize, Normalize, CenterCrop\n",
    "from torch import nn\n",
    "from tqdm import tqdm\n",
    "from torchinfo import summary\n",
    "import numpy as np\n",
    "import math\n"
   ]
  },
  {
   "cell_type": "code",
   "execution_count": 32,
   "metadata": {},
   "outputs": [],
   "source": [
    "class SnakeDataSet(Dataset):\n",
    "    def __init__(self, dataframe, root_dir, stack_size, transform = None):\n",
    "        self.stack_size = stack_size\n",
    "        self.key_frame = dataframe\n",
    "        self.root_dir = root_dir\n",
    "        self.transform = transform\n",
    "\n",
    "    def __len__(self):\n",
    "        return len(self.key_frame) - self.stack_size *3\n",
    "\n",
    "    def __getitem__(self, idx):\n",
    "        if torch.is_tensor(idx):\n",
    "            idx = idx.to_list()\n",
    "        try:\n",
    "            img_names = [os.path.join(self.root_dir, self.key_frame.iloc[idx + i, 0]) for i in range(self.stack_size)]\n",
    "            images = [Image.open(img_name) for img_name in img_names]\n",
    "            label = torch.tensor(self.key_frame.iloc[idx + self.stack_size, 1])\n",
    "            if self.transform:\n",
    "                images = [self.transform(image) for image in images]\n",
    "        except:\n",
    "            img_names = [os.path.join(self.root_dir, self.key_frame.iloc[0 + i, 0]) for i in range(self.stack_size)]\n",
    "            images = [Image.open(img_name) for img_name in img_names]\n",
    "            label = torch.tensor(self.key_frame.iloc[0 + self.stack_size, 1])\n",
    "            if self.transform:\n",
    "                images = [self.transform(image) for image in images]\n",
    "        return torch.stack(images), label"
   ]
  },
  {
   "cell_type": "code",
   "execution_count": 33,
   "metadata": {},
   "outputs": [],
   "source": [
    "transformer = Compose([\n",
    "    Resize((64,64), antialias=True),\n",
    "    CenterCrop(64),\n",
    "    ToTensor(),\n",
    "    Normalize(mean =[0.485, 0.456, 0.406], std =[0.229, 0.224, 0.225] )\n",
    "])"
   ]
  },
  {
   "cell_type": "code",
   "execution_count": 34,
   "metadata": {},
   "outputs": [],
   "source": [
    "STACK_SIZE = 4\n",
    "\n",
    "\n",
    "train, test = train_test_split(pd.read_csv(\"data/labels_snake.csv\"), test_size=0.1, shuffle=False)\n",
    "classes = [\"n\", \"left\", \"up\", \"right\", \"down\"]\n",
    "\n",
    "labels_unique, counts = np.unique(train[\"class\"], return_counts=True)\n",
    "class_weights = [sum(counts)/c for c in counts]\n",
    "example_weights = np.array([class_weights[l] for l in train['class']])\n",
    "example_weights = np.roll(example_weights, -STACK_SIZE)\n",
    "sampler = WeightedRandomSampler(example_weights, len(train))\n",
    "\n",
    "labels_unique, counts = np.unique(test[\"class\"], return_counts=True)\n",
    "class_weights = [sum(counts)/c for c in counts]\n",
    "test_example_weights = np.array([class_weights[l] for l in test['class']])\n",
    "test_example_weights = np.roll(test_example_weights, -STACK_SIZE)\n",
    "test_sampler = WeightedRandomSampler(test_example_weights, len(test))\n"
   ]
  },
  {
   "cell_type": "code",
   "execution_count": 35,
   "metadata": {},
   "outputs": [],
   "source": [
    "from torch.utils.data import DataLoader\n",
    "BATCH_SIZE = 128\n",
    "dataset = SnakeDataSet(root_dir=\"captures\", dataframe = train, stack_size=STACK_SIZE, transform=transformer)\n",
    "dataloader = DataLoader(dataset, batch_size=BATCH_SIZE, sampler=sampler, drop_last= True)\n",
    "test_dataset = SnakeDataSet(root_dir=\"captures\", dataframe = test, stack_size=STACK_SIZE,  transform=transformer)\n",
    "test_dataloader = DataLoader(test_dataset, batch_size=BATCH_SIZE, sampler = test_sampler, drop_last=True)\n"
   ]
  },
  {
   "cell_type": "code",
   "execution_count": 36,
   "metadata": {},
   "outputs": [
    {
     "name": "stderr",
     "output_type": "stream",
     "text": [
      "Clipping input data to the valid range for imshow with RGB data ([0..1] for floats or [0..255] for integers).\n",
      "Clipping input data to the valid range for imshow with RGB data ([0..1] for floats or [0..255] for integers).\n",
      "Clipping input data to the valid range for imshow with RGB data ([0..1] for floats or [0..255] for integers).\n",
      "Clipping input data to the valid range for imshow with RGB data ([0..1] for floats or [0..255] for integers).\n"
     ]
    },
    {
     "name": "stdout",
     "output_type": "stream",
     "text": [
      "tensor([3, 1, 4, 4, 2, 4, 1, 1, 2, 3, 0, 3, 1, 0, 0, 2, 3, 0, 4, 2, 2, 1, 3, 1,\n",
      "        2, 0, 4, 1, 4, 2, 3, 2, 4, 2, 0, 0, 4, 0, 1, 3, 4, 2, 1, 0, 4, 4, 0, 4,\n",
      "        4, 0, 3, 3, 4, 2, 0, 3, 0, 0, 2, 0, 2, 3, 4, 0, 4, 1, 4, 4, 1, 4, 2, 1,\n",
      "        4, 4, 0, 1, 0, 0, 4, 3, 3, 4, 0, 2, 1, 0, 3, 0, 4, 0, 4, 3, 4, 1, 4, 4,\n",
      "        1, 2, 3, 2, 1, 2, 0, 0, 0, 4, 3, 2, 0, 1, 4, 3, 2, 3, 0, 2, 2, 3, 4, 1,\n",
      "        1, 0, 0, 1, 0, 1, 4, 4])\n"
     ]
    },
    {
     "data": {
      "image/png": "[encoded data removed]",
      "text/plain": [
       "<Figure size 1500x500 with 4 Axes>"
      ]
     },
     "metadata": {},
     "output_type": "display_data"
    }
   ],
   "source": [
    "images, label = next(iter(dataloader))\n",
    "print(label)\n",
    "from matplotlib.pyplot import subplots\n",
    "fig,ax = subplots(1, STACK_SIZE, constrained_layout = True, figsize=(15,5))\n",
    "for i in range(STACK_SIZE):\n",
    "    ax[i].imshow(images[2][i].permute(1,2,0));\n",
    "    ax[i].axis('off')\n",
    "fig.supylabel(classes[label[2].item()]);"
   ]
  },
  {
   "cell_type": "code",
   "execution_count": 37,
   "metadata": {},
   "outputs": [],
   "source": [
    "class PositionalEncoder(nn.Module):\n",
    "    \"\"\"\n",
    "    The authors of the original transformer paper describe very succinctly what\n",
    "    the positional encoding layer does and why it is needed:\n",
    "\n",
    "    \"Since our model contains no recurrence and no convolution, in order for the\n",
    "    model to make use of the order of the sequence, we must inject some\n",
    "    information about the relative or absolute position of the tokens in the\n",
    "    sequence.\" (Vaswani et al, 2017)\n",
    "    Adapted from:\n",
    "    https://pytorch.org/tutorials/beginner/transformer_tutorial.html\n",
    "    \"\"\"\n",
    "\n",
    "    def __init__(\n",
    "        self,\n",
    "        dropout: float=0.1,\n",
    "        max_seq_len: int=5000,\n",
    "        d_model: int=512,\n",
    "        batch_first: bool=False\n",
    "        ):\n",
    "\n",
    "        \"\"\"\n",
    "        Parameters:\n",
    "            dropout: the dropout rate\n",
    "            max_seq_len: the maximum length of the input sequences\n",
    "            d_model: The dimension of the output of sub-layers in the model\n",
    "                     (Vaswani et al, 2017)\n",
    "        \"\"\"\n",
    "\n",
    "        super().__init__()\n",
    "\n",
    "        self.d_model = d_model\n",
    "\n",
    "        self.dropout = nn.Dropout(p=dropout)\n",
    "\n",
    "        self.batch_first = batch_first\n",
    "\n",
    "        # adapted from PyTorch tutorial\n",
    "        position = torch.arange(max_seq_len).unsqueeze(1)\n",
    "\n",
    "        div_term = torch.exp(torch.arange(0, d_model, 2) * (-math.log(10000.0) / d_model))\n",
    "\n",
    "        if self.batch_first:\n",
    "            pe = torch.zeros(1, max_seq_len, d_model)\n",
    "\n",
    "            pe[0, :, 0::2] = torch.sin(position * div_term)\n",
    "\n",
    "            pe[0, :, 1::2] = torch.cos(position * div_term)\n",
    "        else:\n",
    "            pe = torch.zeros(max_seq_len, 1, d_model)\n",
    "\n",
    "            pe[:, 0, 0::2] = torch.sin(position * div_term)\n",
    "\n",
    "            pe[:, 0, 1::2] = torch.cos(position * div_term)\n",
    "\n",
    "        self.register_buffer('pe', pe)\n",
    "\n",
    "    def forward(self, x):\n",
    "        \"\"\"\n",
    "        Args:\n",
    "            x: Tensor, shape [batch_size, enc_seq_len, dim_val] or\n",
    "               [enc_seq_len, batch_size, dim_val]\n",
    "        \"\"\"\n",
    "        if self.batch_first:\n",
    "            x = x + self.pe[:,:x.size(1)]\n",
    "        else:\n",
    "            x = x + self.pe[:x.size(0)]\n",
    "\n",
    "        return self.dropout(x)"
   ]
  },
  {
   "cell_type": "code",
   "execution_count": 38,
   "metadata": {},
   "outputs": [],
   "source": [
    "class SnakeConvolver(nn.Module):\n",
    "    def __init__(self, in_channels, stack_size, kernel_size, stride, hidden_channels = 128):\n",
    "        super(SnakeConvolver,self).__init__()\n",
    "        self.in_channels = in_channels\n",
    "        self.stack_size = stack_size\n",
    "        self.hidden_channels = hidden_channels\n",
    "\n",
    "        self.convblock = nn.Sequential(\n",
    "            nn.Conv2d(in_channels, self.hidden_channels, kernel_size, stride),\n",
    "            nn.MaxPool2d(kernel_size, kernel_size),\n",
    "            nn.BatchNorm2d(self.hidden_channels),\n",
    "            nn.ReLU(),\n",
    "            nn.Conv2d(self.hidden_channels, self.hidden_channels*2, kernel_size, stride),\n",
    "            nn.MaxPool2d(kernel_size, kernel_size),\n",
    "            nn.BatchNorm2d(self.hidden_channels*2),\n",
    "            nn.ReLU(),\n",
    "        )\n",
    "        self.positionencoder = PositionalEncoder(d_model = self.hidden_channels*2, max_seq_len=self.stack_size+1, batch_first=True)\n",
    "        self.class_token_embeddings = nn.Parameter(torch.rand((BATCH_SIZE, 1, hidden_channels*2), requires_grad=True))\n",
    "\n",
    "    def forward(self,x):\n",
    "        embeds = torch.stack([self.convblock(x[:,i,:,:,:]) for i in range(self.stack_size)],dim=1).squeeze()\n",
    "        out = torch.cat((self.class_token_embeddings,embeds),dim=1)\n",
    "        out = self.positionencoder(out)\n",
    "        return out"
   ]
  },
  {
   "cell_type": "code",
   "execution_count": 39,
   "metadata": {},
   "outputs": [],
   "source": [
    "class SnakeMSA(nn.Module):\n",
    "    def __init__(self, embed_dims, num_heads, dropout = 0.5):\n",
    "        super(SnakeMSA, self).__init__()\n",
    "        self.embed_dims = embed_dims\n",
    "        self.num_heads = num_heads\n",
    "        self.layernorm = nn.LayerNorm(normalized_shape = self.embed_dims)\n",
    "        self.attentionblock = nn.MultiheadAttention(embed_dims, num_heads, dropout=dropout, batch_first=True)\n",
    "    def forward(self, x):\n",
    "        x = self.layernorm(x)\n",
    "        x = self.attentionblock(x, x, x, need_weights = False)[0]\n",
    "        return x"
   ]
  },
  {
   "cell_type": "code",
   "execution_count": 40,
   "metadata": {},
   "outputs": [],
   "source": [
    "class MLP(nn.Module):\n",
    "    def __init__(self, embed_dims, hidden_units, dropout = 0.3):\n",
    "        super(MLP, self).__init__()\n",
    "        self.embed_dims = embed_dims\n",
    "        self.hidden_units = hidden_units\n",
    "        self.layernorm = nn.LayerNorm(embed_dims)\n",
    "        self.mlp = nn.Sequential(\n",
    "                                        nn.Linear(self.embed_dims,self.hidden_units), \n",
    "                                        nn.GELU(),\n",
    "                                        nn.Dropout(dropout),\n",
    "                                        nn.Linear(self.hidden_units, self.embed_dims),\n",
    "                                        nn.Dropout(dropout),                                      \n",
    "                                        )\n",
    "\n",
    "    def forward(self, x):\n",
    "        return self.mlp(self.layernorm(x))"
   ]
  },
  {
   "cell_type": "code",
   "execution_count": 41,
   "metadata": {},
   "outputs": [],
   "source": [
    "class SnakeTransformer(nn.Module):\n",
    "    def __init__(self, embed_dims, num_heads, hidden_units=256, msa_dropout=0.5, mlp_dropout=0.3):\n",
    "        super().__init__()\n",
    "        self.embed_dims = embed_dims\n",
    "        self.num_heads = num_heads\n",
    "        self.msa_dropout = msa_dropout\n",
    "        self.mlp_dropout = mlp_dropout\n",
    "        self.hidden_units = hidden_units\n",
    "        self.msa = SnakeMSA(embed_dims, num_heads, msa_dropout)\n",
    "        self.mlp = MLP(embed_dims, hidden_units, mlp_dropout)\n",
    "\n",
    "    def forward(self, x):\n",
    "        x = self.msa(x) + x\n",
    "        x = self.mlp(x) + x\n",
    "        return x"
   ]
  },
  {
   "cell_type": "code",
   "execution_count": 42,
   "metadata": {},
   "outputs": [],
   "source": [
    "class SnakeModel(nn.Module):\n",
    "    def __init__(self, \n",
    "                 in_channels=3, \n",
    "                 stack_size = STACK_SIZE,\n",
    "                 kernel_size =3, \n",
    "                 stride=2, \n",
    "                 embed_dims = 768, \n",
    "                 num_transformer_blocks = 12,  \n",
    "                 num_heads = 12, \n",
    "                 msa_dropout = 0.0, \n",
    "                 mlp_dropout = 0.1, \n",
    "                 hidden_channels = 384,\n",
    "                 hidden_units=3072, \n",
    "                 output_size=5):\n",
    "        super(SnakeModel, self).__init__()\n",
    "        self.stack_size = stack_size\n",
    "        self.kernel_size = kernel_size\n",
    "        self.stride = stride\n",
    "        self.embed_dims = embed_dims\n",
    "        self.num_heads = num_heads\n",
    "        self.msa_dropout = msa_dropout\n",
    "        self.hidden_channels = hidden_channels\n",
    "        self.hidden_units = hidden_units\n",
    "        self.output_size = output_size\n",
    "        self.in_channels = in_channels\n",
    "        self.mlp_dropout = mlp_dropout\n",
    "        self.num_transformer_blocks = num_transformer_blocks\n",
    "        self.encoder = SnakeConvolver(in_channels, stack_size, kernel_size, stride, hidden_channels=  self.hidden_channels)\n",
    "        self.transformer = nn.Sequential(*[SnakeTransformer(self.embed_dims, \n",
    "                                                            self.num_heads, \n",
    "                                                            self.hidden_units,\n",
    "                                                            self.msa_dropout,\n",
    "                                                            self.mlp_dropout,\n",
    "                                                            ) for _ in range(self.num_transformer_blocks)])\n",
    "        self.classifier = nn.Sequential(nn.LayerNorm(embed_dims),\n",
    "                                        nn.Linear(embed_dims, output_size))\n",
    "        \n",
    "    def forward(self, x):\n",
    "        x = self.encoder(x)\n",
    "        x = self.classifier(self.transformer(x)[:,0])\n",
    "        return x"
   ]
  },
  {
   "cell_type": "code",
   "execution_count": 44,
   "metadata": {},
   "outputs": [
    {
     "data": {
      "text/plain": [
       "torch.Size([128, 4, 3, 64, 64])"
      ]
     },
     "execution_count": 44,
     "metadata": {},
     "output_type": "execute_result"
    }
   ],
   "source": [
    "images.shape"
   ]
  },
  {
   "cell_type": "code",
   "execution_count": 45,
   "metadata": {},
   "outputs": [
    {
     "data": {
      "text/plain": [
       "===============================================================================================\n",
       "Layer (type:depth-idx)                        Output Shape              Param #\n",
       "===============================================================================================\n",
       "SnakeModel                                    [128, 5]                  --\n",
       "├─SnakeConvolver: 1-1                         [128, 5, 768]             98,304\n",
       "│    └─Sequential: 2-1                        [128, 768, 1, 1]          --\n",
       "│    │    └─Conv2d: 3-1                       [128, 384, 31, 31]        10,752\n",
       "│    │    └─MaxPool2d: 3-2                    [128, 384, 10, 10]        --\n",
       "│    │    └─BatchNorm2d: 3-3                  [128, 384, 10, 10]        768\n",
       "│    │    └─ReLU: 3-4                         [128, 384, 10, 10]        --\n",
       "│    │    └─Conv2d: 3-5                       [128, 768, 4, 4]          2,654,976\n",
       "│    │    └─MaxPool2d: 3-6                    [128, 768, 1, 1]          --\n",
       "│    │    └─BatchNorm2d: 3-7                  [128, 768, 1, 1]          1,536\n",
       "│    │    └─ReLU: 3-8                         [128, 768, 1, 1]          --\n",
       "│    └─Sequential: 2-2                        [128, 768, 1, 1]          (recursive)\n",
       "│    │    └─Conv2d: 3-9                       [128, 384, 31, 31]        (recursive)\n",
       "│    │    └─MaxPool2d: 3-10                   [128, 384, 10, 10]        --\n",
       "│    │    └─BatchNorm2d: 3-11                 [128, 384, 10, 10]        (recursive)\n",
       "│    │    └─ReLU: 3-12                        [128, 384, 10, 10]        --\n",
       "│    │    └─Conv2d: 3-13                      [128, 768, 4, 4]          (recursive)\n",
       "│    │    └─MaxPool2d: 3-14                   [128, 768, 1, 1]          --\n",
       "│    │    └─BatchNorm2d: 3-15                 [128, 768, 1, 1]          (recursive)\n",
       "│    │    └─ReLU: 3-16                        [128, 768, 1, 1]          --\n",
       "│    └─Sequential: 2-3                        [128, 768, 1, 1]          (recursive)\n",
       "│    │    └─Conv2d: 3-17                      [128, 384, 31, 31]        (recursive)\n",
       "│    │    └─MaxPool2d: 3-18                   [128, 384, 10, 10]        --\n",
       "│    │    └─BatchNorm2d: 3-19                 [128, 384, 10, 10]        (recursive)\n",
       "│    │    └─ReLU: 3-20                        [128, 384, 10, 10]        --\n",
       "│    │    └─Conv2d: 3-21                      [128, 768, 4, 4]          (recursive)\n",
       "│    │    └─MaxPool2d: 3-22                   [128, 768, 1, 1]          --\n",
       "│    │    └─BatchNorm2d: 3-23                 [128, 768, 1, 1]          (recursive)\n",
       "│    │    └─ReLU: 3-24                        [128, 768, 1, 1]          --\n",
       "│    └─Sequential: 2-4                        [128, 768, 1, 1]          (recursive)\n",
       "│    │    └─Conv2d: 3-25                      [128, 384, 31, 31]        (recursive)\n",
       "│    │    └─MaxPool2d: 3-26                   [128, 384, 10, 10]        --\n",
       "│    │    └─BatchNorm2d: 3-27                 [128, 384, 10, 10]        (recursive)\n",
       "│    │    └─ReLU: 3-28                        [128, 384, 10, 10]        --\n",
       "│    │    └─Conv2d: 3-29                      [128, 768, 4, 4]          (recursive)\n",
       "│    │    └─MaxPool2d: 3-30                   [128, 768, 1, 1]          --\n",
       "│    │    └─BatchNorm2d: 3-31                 [128, 768, 1, 1]          (recursive)\n",
       "│    │    └─ReLU: 3-32                        [128, 768, 1, 1]          --\n",
       "│    └─PositionalEncoder: 2-5                 [128, 5, 768]             --\n",
       "│    │    └─Dropout: 3-33                     [128, 5, 768]             --\n",
       "├─Sequential: 1-2                             [128, 5, 768]             --\n",
       "│    └─SnakeTransformer: 2-6                  [128, 5, 768]             --\n",
       "│    │    └─SnakeMSA: 3-34                    [128, 5, 768]             --\n",
       "│    │    │    └─LayerNorm: 4-1               [128, 5, 768]             1,536\n",
       "│    │    │    └─MultiheadAttention: 4-2      [128, 5, 768]             2,362,368\n",
       "│    │    └─MLP: 3-35                         [128, 5, 768]             --\n",
       "│    │    │    └─LayerNorm: 4-3               [128, 5, 768]             1,536\n",
       "│    │    │    └─Sequential: 4-4              [128, 5, 768]             --\n",
       "│    │    │    │    └─Linear: 5-1             [128, 5, 3072]            2,362,368\n",
       "│    │    │    │    └─GELU: 5-2               [128, 5, 3072]            --\n",
       "│    │    │    │    └─Dropout: 5-3            [128, 5, 3072]            --\n",
       "│    │    │    │    └─Linear: 5-4             [128, 5, 768]             2,360,064\n",
       "│    │    │    │    └─Dropout: 5-5            [128, 5, 768]             --\n",
       "│    └─SnakeTransformer: 2-7                  [128, 5, 768]             --\n",
       "│    │    └─SnakeMSA: 3-36                    [128, 5, 768]             --\n",
       "│    │    │    └─LayerNorm: 4-5               [128, 5, 768]             1,536\n",
       "│    │    │    └─MultiheadAttention: 4-6      [128, 5, 768]             2,362,368\n",
       "│    │    └─MLP: 3-37                         [128, 5, 768]             --\n",
       "│    │    │    └─LayerNorm: 4-7               [128, 5, 768]             1,536\n",
       "│    │    │    └─Sequential: 4-8              [128, 5, 768]             --\n",
       "│    │    │    │    └─Linear: 5-6             [128, 5, 3072]            2,362,368\n",
       "│    │    │    │    └─GELU: 5-7               [128, 5, 3072]            --\n",
       "│    │    │    │    └─Dropout: 5-8            [128, 5, 3072]            --\n",
       "│    │    │    │    └─Linear: 5-9             [128, 5, 768]             2,360,064\n",
       "│    │    │    │    └─Dropout: 5-10           [128, 5, 768]             --\n",
       "│    └─SnakeTransformer: 2-8                  [128, 5, 768]             --\n",
       "│    │    └─SnakeMSA: 3-38                    [128, 5, 768]             --\n",
       "│    │    │    └─LayerNorm: 4-9               [128, 5, 768]             1,536\n",
       "│    │    │    └─MultiheadAttention: 4-10     [128, 5, 768]             2,362,368\n",
       "│    │    └─MLP: 3-39                         [128, 5, 768]             --\n",
       "│    │    │    └─LayerNorm: 4-11              [128, 5, 768]             1,536\n",
       "│    │    │    └─Sequential: 4-12             [128, 5, 768]             --\n",
       "│    │    │    │    └─Linear: 5-11            [128, 5, 3072]            2,362,368\n",
       "│    │    │    │    └─GELU: 5-12              [128, 5, 3072]            --\n",
       "│    │    │    │    └─Dropout: 5-13           [128, 5, 3072]            --\n",
       "│    │    │    │    └─Linear: 5-14            [128, 5, 768]             2,360,064\n",
       "│    │    │    │    └─Dropout: 5-15           [128, 5, 768]             --\n",
       "│    └─SnakeTransformer: 2-9                  [128, 5, 768]             --\n",
       "│    │    └─SnakeMSA: 3-40                    [128, 5, 768]             --\n",
       "│    │    │    └─LayerNorm: 4-13              [128, 5, 768]             1,536\n",
       "│    │    │    └─MultiheadAttention: 4-14     [128, 5, 768]             2,362,368\n",
       "│    │    └─MLP: 3-41                         [128, 5, 768]             --\n",
       "│    │    │    └─LayerNorm: 4-15              [128, 5, 768]             1,536\n",
       "│    │    │    └─Sequential: 4-16             [128, 5, 768]             --\n",
       "│    │    │    │    └─Linear: 5-16            [128, 5, 3072]            2,362,368\n",
       "│    │    │    │    └─GELU: 5-17              [128, 5, 3072]            --\n",
       "│    │    │    │    └─Dropout: 5-18           [128, 5, 3072]            --\n",
       "│    │    │    │    └─Linear: 5-19            [128, 5, 768]             2,360,064\n",
       "│    │    │    │    └─Dropout: 5-20           [128, 5, 768]             --\n",
       "│    └─SnakeTransformer: 2-10                 [128, 5, 768]             --\n",
       "│    │    └─SnakeMSA: 3-42                    [128, 5, 768]             --\n",
       "│    │    │    └─LayerNorm: 4-17              [128, 5, 768]             1,536\n",
       "│    │    │    └─MultiheadAttention: 4-18     [128, 5, 768]             2,362,368\n",
       "│    │    └─MLP: 3-43                         [128, 5, 768]             --\n",
       "│    │    │    └─LayerNorm: 4-19              [128, 5, 768]             1,536\n",
       "│    │    │    └─Sequential: 4-20             [128, 5, 768]             --\n",
       "│    │    │    │    └─Linear: 5-21            [128, 5, 3072]            2,362,368\n",
       "│    │    │    │    └─GELU: 5-22              [128, 5, 3072]            --\n",
       "│    │    │    │    └─Dropout: 5-23           [128, 5, 3072]            --\n",
       "│    │    │    │    └─Linear: 5-24            [128, 5, 768]             2,360,064\n",
       "│    │    │    │    └─Dropout: 5-25           [128, 5, 768]             --\n",
       "│    └─SnakeTransformer: 2-11                 [128, 5, 768]             --\n",
       "│    │    └─SnakeMSA: 3-44                    [128, 5, 768]             --\n",
       "│    │    │    └─LayerNorm: 4-21              [128, 5, 768]             1,536\n",
       "│    │    │    └─MultiheadAttention: 4-22     [128, 5, 768]             2,362,368\n",
       "│    │    └─MLP: 3-45                         [128, 5, 768]             --\n",
       "│    │    │    └─LayerNorm: 4-23              [128, 5, 768]             1,536\n",
       "│    │    │    └─Sequential: 4-24             [128, 5, 768]             --\n",
       "│    │    │    │    └─Linear: 5-26            [128, 5, 3072]            2,362,368\n",
       "│    │    │    │    └─GELU: 5-27              [128, 5, 3072]            --\n",
       "│    │    │    │    └─Dropout: 5-28           [128, 5, 3072]            --\n",
       "│    │    │    │    └─Linear: 5-29            [128, 5, 768]             2,360,064\n",
       "│    │    │    │    └─Dropout: 5-30           [128, 5, 768]             --\n",
       "│    └─SnakeTransformer: 2-12                 [128, 5, 768]             --\n",
       "│    │    └─SnakeMSA: 3-46                    [128, 5, 768]             --\n",
       "│    │    │    └─LayerNorm: 4-25              [128, 5, 768]             1,536\n",
       "│    │    │    └─MultiheadAttention: 4-26     [128, 5, 768]             2,362,368\n",
       "│    │    └─MLP: 3-47                         [128, 5, 768]             --\n",
       "│    │    │    └─LayerNorm: 4-27              [128, 5, 768]             1,536\n",
       "│    │    │    └─Sequential: 4-28             [128, 5, 768]             --\n",
       "│    │    │    │    └─Linear: 5-31            [128, 5, 3072]            2,362,368\n",
       "│    │    │    │    └─GELU: 5-32              [128, 5, 3072]            --\n",
       "│    │    │    │    └─Dropout: 5-33           [128, 5, 3072]            --\n",
       "│    │    │    │    └─Linear: 5-34            [128, 5, 768]             2,360,064\n",
       "│    │    │    │    └─Dropout: 5-35           [128, 5, 768]             --\n",
       "│    └─SnakeTransformer: 2-13                 [128, 5, 768]             --\n",
       "│    │    └─SnakeMSA: 3-48                    [128, 5, 768]             --\n",
       "│    │    │    └─LayerNorm: 4-29              [128, 5, 768]             1,536\n",
       "│    │    │    └─MultiheadAttention: 4-30     [128, 5, 768]             2,362,368\n",
       "│    │    └─MLP: 3-49                         [128, 5, 768]             --\n",
       "│    │    │    └─LayerNorm: 4-31              [128, 5, 768]             1,536\n",
       "│    │    │    └─Sequential: 4-32             [128, 5, 768]             --\n",
       "│    │    │    │    └─Linear: 5-36            [128, 5, 3072]            2,362,368\n",
       "│    │    │    │    └─GELU: 5-37              [128, 5, 3072]            --\n",
       "│    │    │    │    └─Dropout: 5-38           [128, 5, 3072]            --\n",
       "│    │    │    │    └─Linear: 5-39            [128, 5, 768]             2,360,064\n",
       "│    │    │    │    └─Dropout: 5-40           [128, 5, 768]             --\n",
       "│    └─SnakeTransformer: 2-14                 [128, 5, 768]             --\n",
       "│    │    └─SnakeMSA: 3-50                    [128, 5, 768]             --\n",
       "│    │    │    └─LayerNorm: 4-33              [128, 5, 768]             1,536\n",
       "│    │    │    └─MultiheadAttention: 4-34     [128, 5, 768]             2,362,368\n",
       "│    │    └─MLP: 3-51                         [128, 5, 768]             --\n",
       "│    │    │    └─LayerNorm: 4-35              [128, 5, 768]             1,536\n",
       "│    │    │    └─Sequential: 4-36             [128, 5, 768]             --\n",
       "│    │    │    │    └─Linear: 5-41            [128, 5, 3072]            2,362,368\n",
       "│    │    │    │    └─GELU: 5-42              [128, 5, 3072]            --\n",
       "│    │    │    │    └─Dropout: 5-43           [128, 5, 3072]            --\n",
       "│    │    │    │    └─Linear: 5-44            [128, 5, 768]             2,360,064\n",
       "│    │    │    │    └─Dropout: 5-45           [128, 5, 768]             --\n",
       "│    └─SnakeTransformer: 2-15                 [128, 5, 768]             --\n",
       "│    │    └─SnakeMSA: 3-52                    [128, 5, 768]             --\n",
       "│    │    │    └─LayerNorm: 4-37              [128, 5, 768]             1,536\n",
       "│    │    │    └─MultiheadAttention: 4-38     [128, 5, 768]             2,362,368\n",
       "│    │    └─MLP: 3-53                         [128, 5, 768]             --\n",
       "│    │    │    └─LayerNorm: 4-39              [128, 5, 768]             1,536\n",
       "│    │    │    └─Sequential: 4-40             [128, 5, 768]             --\n",
       "│    │    │    │    └─Linear: 5-46            [128, 5, 3072]            2,362,368\n",
       "│    │    │    │    └─GELU: 5-47              [128, 5, 3072]            --\n",
       "│    │    │    │    └─Dropout: 5-48           [128, 5, 3072]            --\n",
       "│    │    │    │    └─Linear: 5-49            [128, 5, 768]             2,360,064\n",
       "│    │    │    │    └─Dropout: 5-50           [128, 5, 768]             --\n",
       "│    └─SnakeTransformer: 2-16                 [128, 5, 768]             --\n",
       "│    │    └─SnakeMSA: 3-54                    [128, 5, 768]             --\n",
       "│    │    │    └─LayerNorm: 4-41              [128, 5, 768]             1,536\n",
       "│    │    │    └─MultiheadAttention: 4-42     [128, 5, 768]             2,362,368\n",
       "│    │    └─MLP: 3-55                         [128, 5, 768]             --\n",
       "│    │    │    └─LayerNorm: 4-43              [128, 5, 768]             1,536\n",
       "│    │    │    └─Sequential: 4-44             [128, 5, 768]             --\n",
       "│    │    │    │    └─Linear: 5-51            [128, 5, 3072]            2,362,368\n",
       "│    │    │    │    └─GELU: 5-52              [128, 5, 3072]            --\n",
       "│    │    │    │    └─Dropout: 5-53           [128, 5, 3072]            --\n",
       "│    │    │    │    └─Linear: 5-54            [128, 5, 768]             2,360,064\n",
       "│    │    │    │    └─Dropout: 5-55           [128, 5, 768]             --\n",
       "│    └─SnakeTransformer: 2-17                 [128, 5, 768]             --\n",
       "│    │    └─SnakeMSA: 3-56                    [128, 5, 768]             --\n",
       "│    │    │    └─LayerNorm: 4-45              [128, 5, 768]             1,536\n",
       "│    │    │    └─MultiheadAttention: 4-46     [128, 5, 768]             2,362,368\n",
       "│    │    └─MLP: 3-57                         [128, 5, 768]             --\n",
       "│    │    │    └─LayerNorm: 4-47              [128, 5, 768]             1,536\n",
       "│    │    │    └─Sequential: 4-48             [128, 5, 768]             --\n",
       "│    │    │    │    └─Linear: 5-56            [128, 5, 3072]            2,362,368\n",
       "│    │    │    │    └─GELU: 5-57              [128, 5, 3072]            --\n",
       "│    │    │    │    └─Dropout: 5-58           [128, 5, 3072]            --\n",
       "│    │    │    │    └─Linear: 5-59            [128, 5, 768]             2,360,064\n",
       "│    │    │    │    └─Dropout: 5-60           [128, 5, 768]             --\n",
       "├─Sequential: 1-3                             [128, 5]                  --\n",
       "│    └─LayerNorm: 2-18                        [128, 768]                1,536\n",
       "│    └─Linear: 2-19                           [128, 5]                  3,845\n",
       "===============================================================================================\n",
       "Total params: 87,826,181\n",
       "Trainable params: 87,826,181\n",
       "Non-trainable params: 0\n",
       "Total mult-adds (G): 34.30\n",
       "===============================================================================================\n",
       "Input size (MB): 25.17\n",
       "Forward/backward pass size (MB): 2053.38\n",
       "Params size (MB): 237.52\n",
       "Estimated Total Size (MB): 2316.06\n",
       "==============================================================================================="
      ]
     },
     "execution_count": 45,
     "metadata": {},
     "output_type": "execute_result"
    }
   ],
   "source": [
    "model = SnakeModel()\n",
    "summary(model, (BATCH_SIZE,STACK_SIZE,3, 64,64), depth=5)\n"
   ]
  },
  {
   "cell_type": "code",
   "execution_count": 46,
   "metadata": {},
   "outputs": [],
   "source": [
    "from torch.optim.lr_scheduler import LinearLR\n",
    "num_epochs = 7\n",
    "\n",
    "device = torch.device(\"cuda\" if torch.cuda.is_available() else \"cpu\")\n",
    "optimizer = torch.optim.AdamW(model.parameters(), 10e-6, weight_decay=0.1,)\n",
    "scheduler = LinearLR(optimizer, start_factor=1, end_factor=0.1, total_iters=num_epochs)\n",
    "model.to(device)\n",
    "criterion = nn.CrossEntropyLoss()\n",
    "\n"
   ]
  },
  {
   "cell_type": "code",
   "execution_count": 47,
   "metadata": {},
   "outputs": [
    {
     "data": {
      "text/plain": [
       "torch.Size([128, 5])"
      ]
     },
     "execution_count": 47,
     "metadata": {},
     "output_type": "execute_result"
    }
   ],
   "source": [
    "model(images.to(device)).shape"
   ]
  },
  {
   "cell_type": "code",
   "execution_count": 48,
   "metadata": {},
   "outputs": [
    {
     "name": "stderr",
     "output_type": "stream",
     "text": [
      "Epoch 1/7: 100%|██████████| 1098/1098 [34:39<00:00,  1.89s/it, Loss=0.00761, Accuracy=0.605]\n"
     ]
    },
    {
     "name": "stdout",
     "output_type": "stream",
     "text": [
      "Epoch 1/7, Val Loss: 0.0117, Val Accuracy: 0.5039\n"
     ]
    },
    {
     "name": "stderr",
     "output_type": "stream",
     "text": [
      "Epoch 2/7: 100%|██████████| 1098/1098 [33:29<00:00,  1.83s/it, Loss=0.0055, Accuracy=0.718] \n"
     ]
    },
    {
     "name": "stdout",
     "output_type": "stream",
     "text": [
      "Epoch 2/7, Val Loss: 0.0132, Val Accuracy: 0.4963\n"
     ]
    },
    {
     "name": "stderr",
     "output_type": "stream",
     "text": [
      "Epoch 3/7:  45%|████▌     | 496/1098 [15:22<18:39,  1.86s/it, Loss=0.0049, Accuracy=0.75]  \n"
     ]
    },
    {
     "ename": "KeyboardInterrupt",
     "evalue": "",
     "output_type": "error",
     "traceback": [
      "\u001b[1;31m---------------------------------------------------------------------------\u001b[0m",
      "\u001b[1;31mKeyboardInterrupt\u001b[0m                         Traceback (most recent call last)",
      "Cell \u001b[1;32mIn [48], line 28\u001b[0m\n\u001b[0;32m     25\u001b[0m optimizer\u001b[38;5;241m.\u001b[39mstep()\n\u001b[0;32m     27\u001b[0m \u001b[38;5;66;03m# Update statistics\u001b[39;00m\n\u001b[1;32m---> 28\u001b[0m total_loss \u001b[38;5;241m+\u001b[39m\u001b[38;5;241m=\u001b[39m \u001b[43mloss\u001b[49m\u001b[38;5;241;43m.\u001b[39;49m\u001b[43mitem\u001b[49m\u001b[43m(\u001b[49m\u001b[43m)\u001b[49m\n\u001b[0;32m     29\u001b[0m _, predicted \u001b[38;5;241m=\u001b[39m torch\u001b[38;5;241m.\u001b[39mmax(torch\u001b[38;5;241m.\u001b[39msoftmax(outputs,\u001b[38;5;241m1\u001b[39m), \u001b[38;5;241m1\u001b[39m)\n\u001b[0;32m     30\u001b[0m correct_predictions \u001b[38;5;241m+\u001b[39m\u001b[38;5;241m=\u001b[39m (predicted \u001b[38;5;241m==\u001b[39m labels)\u001b[38;5;241m.\u001b[39msum()\u001b[38;5;241m.\u001b[39mitem()\n",
      "\u001b[1;31mKeyboardInterrupt\u001b[0m: "
     ]
    }
   ],
   "source": [
    "steps = 0\n",
    "for epoch in range(num_epochs):\n",
    "    total_loss = 0.0\n",
    "    correct_predictions = 0\n",
    "    total_samples = 0\n",
    "\n",
    "    val_loss = 0.0\n",
    "    val_correct_predictions = 0\n",
    "    val_total_samples = 0\n",
    "\n",
    "    # Set model to training mode\n",
    "    model.train()\n",
    "\n",
    "    # tqdm bar for progress visualization\n",
    "    pbar = tqdm(dataloader, desc=f'Epoch {epoch + 1}/{num_epochs}', leave=True)\n",
    "    for inputs, labels in pbar:\n",
    "        inputs, labels = inputs.to(device), labels.to(device)\n",
    "\n",
    "        outputs = model(inputs.to(device))\n",
    "        loss = criterion(outputs, labels)\n",
    "\n",
    "        # Backward pass and optimization\n",
    "        optimizer.zero_grad()\n",
    "        loss.backward()\n",
    "        optimizer.step()\n",
    "\n",
    "        # Update statistics\n",
    "        total_loss += loss.item()\n",
    "        _, predicted = torch.max(torch.softmax(outputs,1), 1)\n",
    "        correct_predictions += (predicted == labels).sum().item()\n",
    "        total_samples += labels.size(0)\n",
    "\n",
    "        # Update tqdm bar with current loss and accuracy\n",
    "        pbar.set_postfix({'Loss': total_loss / total_samples, 'Accuracy': correct_predictions / total_samples})\n",
    "        steps = steps + 1\n",
    "        # if steps>1000:\n",
    "        #     for param_group in optimizer.param_groups:\n",
    "        #         param_group['lr'] = 2e-5\n",
    "\n",
    "    model.eval()\n",
    "    with torch.inference_mode():\n",
    "        for inputs, labels in test_dataloader:\n",
    "            inputs, labels = inputs.to(device), labels.to(device)\n",
    "\n",
    "            outputs = model(inputs.to(device))\n",
    "            loss = criterion(outputs, labels)\n",
    "\n",
    "            # Update statistics\n",
    "            val_loss += loss.item()\n",
    "            _, predicted = torch.max(torch.softmax(outputs,1), 1)\n",
    "            val_correct_predictions += (predicted == labels).sum().item()\n",
    "            val_total_samples += labels.size(0)\n",
    "\n",
    "    # Calculate and print epoch-level accuracy and loss for validation\n",
    "    epoch_loss = val_loss / val_total_samples\n",
    "    epoch_accuracy = val_correct_predictions / val_total_samples\n",
    "    print(f'Epoch {epoch + 1}/{num_epochs}, Val Loss: {epoch_loss:.4f}, Val Accuracy: {epoch_accuracy:.4f}')"
   ]
  },
  {
   "cell_type": "code",
   "execution_count": null,
   "metadata": {},
   "outputs": [],
   "source": [
    "torch.save(model.state_dict(), \"weights.pth\")\n"
   ]
  },
  {
   "cell_type": "code",
   "execution_count": null,
   "metadata": {},
   "outputs": [
    {
     "name": "stderr",
     "output_type": "stream",
     "text": [
      "100%|██████████| 125/125 [00:49<00:00,  2.54it/s, Loss=0.175, Accuracy=0.35] "
     ]
    },
    {
     "name": "stdout",
     "output_type": "stream",
     "text": [
      "Epoch 20/20, Loss: 0.1752, Accuracy: 0.3505\n"
     ]
    },
    {
     "name": "stderr",
     "output_type": "stream",
     "text": [
      "\n"
     ]
    }
   ],
   "source": [
    "criterion = nn.CrossEntropyLoss()\n",
    "total_loss = 0.0\n",
    "correct_predictions = 0\n",
    "total_samples = 0\n",
    "\n",
    "with torch.inference_mode():\n",
    "  # Set model to training mode\n",
    "  model.eval()\n",
    "\n",
    "  # tqdm bar for progress visualization\n",
    "  pbar = tqdm(test_dataloader, leave=True)\n",
    "\n",
    "  with torch.inference_mode(): \n",
    "    \n",
    "    for inputs, labels in pbar:\n",
    "        # Forward pass\n",
    "        inputs, labels = inputs.to(device), labels.type(torch.LongTensor).to(device)\n",
    "        outputs = model(inputs.to(device))\n",
    "        loss = criterion(outputs, labels)\n",
    "\n",
    "        # Update statistics\n",
    "        total_loss += loss.item()\n",
    "        _, predicted = torch.max(outputs, 1)\n",
    "        correct_predictions += (predicted == labels).sum().item()\n",
    "        total_samples += labels.size(0)\n",
    "\n",
    "        # Update tqdm bar with current loss and accuracy\n",
    "        pbar.set_postfix({'Loss': total_loss / total_samples, 'Accuracy': correct_predictions / total_samples})\n",
    "\n",
    "    # Calculate and print epoch-level accuracy and loss\n",
    "    epoch_loss = total_loss / total_samples\n",
    "    epoch_accuracy = correct_predictions / total_samples\n",
    "    print(f'Epoch {epoch + 1}/{num_epochs}, Loss: {epoch_loss:.4f}, Accuracy: {epoch_accuracy:.4f}')"
   ]
  },
  {
   "cell_type": "code",
   "execution_count": null,
   "metadata": {},
   "outputs": [
    {
     "data": {
      "text/plain": [
       "tensor([[ 1.8871,  5.5179,  0.0093, -6.6027, -0.3690],\n",
       "        [ 0.4526, -5.7828, -0.3614,  4.9467, -0.7812],\n",
       "        [ 3.1903,  5.2011,  0.3370, -7.4490, -1.9668],\n",
       "        [ 0.3016, -2.6541,  2.7760,  2.0058, -3.3939],\n",
       "        [ 1.0856, -7.8013, -0.5289,  6.2668, -1.5776],\n",
       "        [ 3.0884, -2.2665, -6.6093, -0.0931,  4.0961],\n",
       "        [ 0.4661, -7.0749, -2.2711,  6.2445,  0.9774],\n",
       "        [ 3.7324,  1.8034, -5.9827, -4.3991,  3.6110],\n",
       "        [ 1.7292, -6.6276, -3.5998,  4.8401,  1.3216],\n",
       "        [ 3.2603,  1.6302, -6.6735, -3.7937,  4.7435],\n",
       "        [ 4.2501,  1.9277, -4.3518, -5.0623,  1.4290],\n",
       "        [ 2.0982,  4.6273,  2.6636, -6.1395, -3.5514],\n",
       "        [ 1.4905, -0.5644,  4.0618, -0.9971, -5.4521],\n",
       "        [ 0.6972,  1.3567, -4.2940, -1.5220,  4.5105],\n",
       "        [ 1.4132,  1.1621, -4.2883, -1.9620,  3.8141],\n",
       "        [ 1.9964, -7.1878, -0.9924,  4.9488, -1.7965]], device='cuda:0',\n",
       "       grad_fn=<AddmmBackward0>)"
      ]
     },
     "execution_count": 39,
     "metadata": {},
     "output_type": "execute_result"
    }
   ],
   "source": [
    "images, label = next(iter(dataloader))\n",
    "model(images.to(device))"
   ]
  }
 ],
 "metadata": {
  "kernelspec": {
   "display_name": "autodrive-env",
   "language": "python",
   "name": "python3"
  },
  "language_info": {
   "codemirror_mode": {
    "name": "ipython",
    "version": 3
   },
   "file_extension": ".py",
   "mimetype": "text/x-python",
   "name": "python",
   "nbconvert_exporter": "python",
   "pygments_lexer": "ipython3",
   "version": "3.10.12"
  }
 },
 "nbformat": 4,
 "nbformat_minor": 2
}
